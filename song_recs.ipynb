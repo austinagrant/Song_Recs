{
 "cells": [
  {
   "cell_type": "code",
   "execution_count": 1,
   "metadata": {},
   "outputs": [],
   "source": [
    "import pandas as pd"
   ]
  },
  {
   "cell_type": "code",
   "execution_count": 2,
   "metadata": {},
   "outputs": [
    {
     "name": "stdout",
     "output_type": "stream",
     "text": [
      "   num                                        descriptors  \\\n",
      "0    1  [mellow, soft, femalevocals, introspective, me...   \n",
      "1    1  [mellow, soft, femalevocals, introspective, me...   \n",
      "2    1  [mellow, soft, femalevocals, introspective, me...   \n",
      "3    1  [mellow, soft, femalevocals, introspective, me...   \n",
      "4    1  [mellow, soft, femalevocals, introspective, me...   \n",
      "\n",
      "                  primary_genres           secondary_genres  \\\n",
      "0  [Singer-Songwriter, Folk Pop]  [Chamber Pop, Indie Folk]   \n",
      "1  [Singer-Songwriter, Folk Pop]  [Chamber Pop, Indie Folk]   \n",
      "2  [Singer-Songwriter, Folk Pop]  [Chamber Pop, Indie Folk]   \n",
      "3  [Singer-Songwriter, Folk Pop]  [Chamber Pop, Indie Folk]   \n",
      "4  [Singer-Songwriter, Folk Pop]  [Chamber Pop, Indie Folk]   \n",
      "\n",
      "              song_name                 song_id album_name   artist_name  \\\n",
      "0                willow  0lx2cLdOt3piJbcaXIV74f   Evermore  Taylor Swift   \n",
      "1    champagne problems  0sY6ZUTh4yoctD8VIXz339   Evermore  Taylor Swift   \n",
      "2             gold rush  5BK0uqwY9DNfZ630STAEaq   Evermore  Taylor Swift   \n",
      "3  ‘tis the damn season  7dW84mWkdWE5a6lFWxJCBG   Evermore  Taylor Swift   \n",
      "4           tolerate it  0PurA4JVJ8YQgSVopY8fn6   Evermore  Taylor Swift   \n",
      "\n",
      "                 album_id  acousticness  danceability  energy  \\\n",
      "0  2Xoteh7uEpea4TohMxjtaq         0.833         0.392   0.574   \n",
      "1  2Xoteh7uEpea4TohMxjtaq         0.920         0.462   0.240   \n",
      "2  2Xoteh7uEpea4TohMxjtaq         0.830         0.512   0.462   \n",
      "3  2Xoteh7uEpea4TohMxjtaq         0.735         0.575   0.434   \n",
      "4  2Xoteh7uEpea4TohMxjtaq         0.878         0.316   0.361   \n",
      "\n",
      "   instrumentalness  key  liveness  loudness  mode  speechiness  \\\n",
      "0          0.001790    7    0.1450    -9.195     1       0.1700   \n",
      "1          0.000000    0    0.1130   -12.077     1       0.0377   \n",
      "2          0.166000    9    0.1210   -10.491     1       0.0408   \n",
      "3          0.000066    5    0.1050    -8.193     1       0.0312   \n",
      "4          0.000027    9    0.0797   -10.381     1       0.0488   \n",
      "\n",
      "   time_signature  valence  \n",
      "0               4    0.529  \n",
      "1               4    0.320  \n",
      "2               4    0.353  \n",
      "3               4    0.348  \n",
      "4               5    0.221  \n"
     ]
    }
   ],
   "source": [
    "df = pd.read_pickle('big_df_wam.json')\n",
    "print(df.head())"
   ]
  }
 ],
 "metadata": {
  "kernelspec": {
   "display_name": "venv",
   "language": "python",
   "name": "python3"
  },
  "language_info": {
   "codemirror_mode": {
    "name": "ipython",
    "version": 3
   },
   "file_extension": ".py",
   "mimetype": "text/x-python",
   "name": "python",
   "nbconvert_exporter": "python",
   "pygments_lexer": "ipython3",
   "version": "3.12.3"
  },
  "orig_nbformat": 4
 },
 "nbformat": 4,
 "nbformat_minor": 2
}
